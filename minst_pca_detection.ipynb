{
  "nbformat": 4,
  "nbformat_minor": 0,
  "metadata": {
    "colab": {
      "private_outputs": true,
      "provenance": []
    },
    "kernelspec": {
      "name": "python3",
      "display_name": "Python 3"
    },
    "language_info": {
      "name": "python"
    }
  },
  "cells": [
    {
      "cell_type": "code",
      "execution_count": null,
      "metadata": {
        "id": "F93HHw9kJYda"
      },
      "outputs": [],
      "source": [
        "import cv2\n",
        "import numpy as np\n",
        "import pandas as pd \n",
        "import matplotlib.pyplot as plt \n",
        "%matplotlib inline"
      ]
    },
    {
      "cell_type": "code",
      "source": [
        "data = pd.read_csv(\"/content/sample_data/mnist_train_small.csv\", header=None)\n",
        "data"
      ],
      "metadata": {
        "id": "Lv6rWi39Je5p"
      },
      "execution_count": null,
      "outputs": []
    },
    {
      "cell_type": "code",
      "source": [
        "targets = data[0]\n",
        "data.drop(0, axis=1, inplace=True)"
      ],
      "metadata": {
        "id": "SR-usbo6JrLw"
      },
      "execution_count": null,
      "outputs": []
    },
    {
      "cell_type": "code",
      "source": [
        "twos = targets[targets == 2].index"
      ],
      "metadata": {
        "id": "8bFowwj8LxOC"
      },
      "execution_count": null,
      "outputs": []
    },
    {
      "cell_type": "code",
      "source": [
        "twos = data.loc[twos]"
      ],
      "metadata": {
        "id": "Mb7VnWsfY-pt"
      },
      "execution_count": null,
      "outputs": []
    },
    {
      "cell_type": "code",
      "source": [
        "sample_image = data.loc[5].values.reshape(28,28)"
      ],
      "metadata": {
        "id": "y8QLnexCKKyO"
      },
      "execution_count": null,
      "outputs": []
    },
    {
      "cell_type": "code",
      "source": [
        "plt.imshow(sample_image)"
      ],
      "metadata": {
        "id": "LAXNZbKYKPra"
      },
      "execution_count": null,
      "outputs": []
    },
    {
      "cell_type": "code",
      "source": [
        "!unzip /content/test_data.zip -d data/"
      ],
      "metadata": {
        "id": "GkTNO3NoQMjD"
      },
      "execution_count": null,
      "outputs": []
    },
    {
      "cell_type": "code",
      "source": [
        "import os \n",
        "test_images = []\n",
        "path = \"/content/data/test_data\"\n",
        "for file in os.listdir(path):\n",
        "  test_images.append(cv2.imread(path + \"/\" + file))\n",
        "\n"
      ],
      "metadata": {
        "id": "3A3qZcrFQYUG"
      },
      "execution_count": null,
      "outputs": []
    },
    {
      "cell_type": "code",
      "source": [
        "plt.imshow(test_images[0])"
      ],
      "metadata": {
        "id": "a41ZVvSZQrU_"
      },
      "execution_count": null,
      "outputs": []
    },
    {
      "cell_type": "code",
      "source": [
        "def eig(S):\n",
        "    #calculate the eigen values and eigen vectors\n",
        "    eig_val, eig_vec = np.linalg.eigh(S)  \n",
        "    \n",
        "    #sorting them in decrasing order\n",
        "    sorted_eig  = np.argsort(-eig_val)\n",
        "    eig_val = eig_val[sorted_eig]\n",
        "    eig_vec = eig_vec[:, sorted_eig]\n",
        "\n",
        "    return eig_val, eig_vec\n",
        "    \n",
        "\n",
        "def Standardize(X):\n",
        "    #calcualte the mean of each column mu   \n",
        "    mu = np.mean(X, axis = 0) \n",
        "    \n",
        "    #Substract the mean from X\n",
        "    X = X - mu  \n",
        "    \n",
        "    #calcualte the standard deviation of each column std\n",
        "    std = np.std(X, axis = 0)  \n",
        "    \n",
        "    #handleing zero standard deviation\n",
        "    std_filled = std.copy()\n",
        "    std_filled[std == 0] = 1.0\n",
        "    \n",
        "    #calculate standardized X called Xbar\n",
        "    Xbar = (X-mu) / std_filled  \n",
        "    \n",
        "    return Xbar, mu, std\n",
        "\n",
        "def projection_matrix(B):\n",
        "    #calculate the projection matrix P\n",
        "    P = B @ B.T \n",
        "    \n",
        "    return P\n",
        "\n",
        "def PCA_(X):\n",
        "    #calculate the data covariance matrix S\n",
        "    S = np.cov(X)  \n",
        "    \n",
        "    #now find eigenvalues and corresponding eigenvectors for S by implementing eig().\n",
        "    eig_vals, eig_vecs = eig(S)\n",
        "    idx = eig_vals.argsort()[::-1]\n",
        "    eig_vecs = eig_vecs[:, idx]\n",
        "    eig_vals = eig_vals[idx]\n",
        "    \n",
        "    return eig_vecs, eig_vals\n"
      ],
      "metadata": {
        "id": "3N516noA0A5w"
      },
      "execution_count": null,
      "outputs": []
    },
    {
      "cell_type": "code",
      "source": [
        "from sklearn.decomposition import PCA\n",
        "\n",
        "pca = PCA()"
      ],
      "metadata": {
        "id": "lUEmyUB-JlsQ"
      },
      "execution_count": null,
      "outputs": []
    },
    {
      "cell_type": "code",
      "source": [
        "twos = twos// 255"
      ],
      "metadata": {
        "id": "Xwu3Ljw2enWM"
      },
      "execution_count": null,
      "outputs": []
    },
    {
      "cell_type": "code",
      "source": [
        "pca = PCA()\n",
        "pca.fit(twos)"
      ],
      "metadata": {
        "id": "uY-nOu5hTWBf"
      },
      "execution_count": null,
      "outputs": []
    },
    {
      "cell_type": "code",
      "source": [
        "sample_image_t = pca.transform(sample_image.flatten().reshape(1,-1))"
      ],
      "metadata": {
        "id": "kEQQEJj1ZWUD"
      },
      "execution_count": null,
      "outputs": []
    },
    {
      "cell_type": "code",
      "source": [
        "\n",
        "\n",
        "def reconstruction(image, N):\n",
        "  img, std, mu = Standardize(image)\n",
        "  img = pca.transform(sample_image.flatten().reshape(1,-1))\n",
        "  eigenvec = pca.components_\n",
        "  U = eigenvec[:, range(N)]\n",
        "  P = projection_matrix(U)\n",
        "  \n",
        "  return P"
      ],
      "metadata": {
        "id": "6d4aRxv4fY-0"
      },
      "execution_count": null,
      "outputs": []
    },
    {
      "cell_type": "code",
      "source": [],
      "metadata": {
        "id": "X03OWCIAovfA"
      },
      "execution_count": null,
      "outputs": []
    },
    {
      "cell_type": "code",
      "source": [
        "sample_image =sample_image.reshape(28,28)"
      ],
      "metadata": {
        "id": "T8Extlt5f_UU"
      },
      "execution_count": null,
      "outputs": []
    },
    {
      "cell_type": "code",
      "source": [
        "sample_image, mu, std = Standardize(sample_image)"
      ],
      "metadata": {
        "id": "ZmKfRL0En2gB"
      },
      "execution_count": null,
      "outputs": []
    },
    {
      "cell_type": "code",
      "source": [
        "plt.imshow(sample_image)"
      ],
      "metadata": {
        "id": "PXfhNKf4SH3J"
      },
      "execution_count": null,
      "outputs": []
    },
    {
      "cell_type": "code",
      "source": [
        "def pca_detect_digit(image, mean_digit, eigenv, N=28):\n",
        "  from numpy import linalg\n",
        "  s_bar, std, mu = Standardize(image)\n",
        "  projection = PCA(s_bar, N)\n",
        "  reconst = sample_image @ projection\n",
        "  error = mse(reconst, sample_image)\n",
        "  h, w = mean_digit.shape[:-1]\n",
        "  mean_digit_grey = cv2.cvtColor(mean_digit, cv2.COLOR_BGR2GRAY)\n",
        "  subwin_size = 28\n",
        "  result = []\n",
        "  centers = []\n",
        "\n",
        "  for y in range(subwin_size, h):\n",
        "       for x in range(subwin_size, w):\n",
        "           mean_digit_piece = mean_digit_grey[y-subwin_size:y, x-subwin_size:x]\n",
        "           \n",
        "           diff = mse(mean_digit_piece, reconst)\n",
        "           result.append(diff)\n",
        "           centers.append([x,y])\n",
        "  best_match = np.argmin(result, axis=0)\n",
        "  k = centers[best_match]\n",
        "  k1, k2 = k[0]//2, k[1]//2\n",
        "  n = 14\n",
        "  x1, x2, y1, y2 = k1-n, k1+n, k2-n, k2+n\n",
        "  # plt.imshow(image)\n",
        "  final = cv2.rectangle(mean_digit.copy(), (x1,y1), (x2, y2),(255,255,255),2)\n",
        "\n",
        "  return final,centers\n"
      ],
      "metadata": {
        "id": "UhidPFZHXQtn"
      },
      "execution_count": null,
      "outputs": []
    },
    {
      "cell_type": "code",
      "source": [
        "fig, axes = plt.subplots(4, 5, figsize=(15,15))\n",
        "axes = axes.flatten()\n",
        "for i, image in enumerate(test_images):\n",
        "  axes[i].imshow(image, cmap='gray');\n",
        "  # axes[i].set_title(f\"Label: {}\")"
      ],
      "metadata": {
        "id": "p-_cIPM-1oW1"
      },
      "execution_count": null,
      "outputs": []
    },
    {
      "cell_type": "code",
      "source": [
        "result_images = []\n",
        "for img in test_images:\n",
        "  eigenv, eigval = PCA_(sample_image)\n",
        "  # print(img.shape)\n",
        "  final, centers = pca_detect_digit(sample_image, img, eigenv=eigenv, N = 10)\n",
        "  result_images.append(final)"
      ],
      "metadata": {
        "id": "2fGLs-M6hngc"
      },
      "execution_count": null,
      "outputs": []
    },
    {
      "cell_type": "code",
      "source": [
        "centers[31]"
      ],
      "metadata": {
        "id": "GVmAgzMtqCFd"
      },
      "execution_count": null,
      "outputs": []
    },
    {
      "cell_type": "code",
      "source": [
        "60/28"
      ],
      "metadata": {
        "id": "_pIK480RqNit"
      },
      "execution_count": null,
      "outputs": []
    },
    {
      "cell_type": "code",
      "source": [
        "fig, axes = plt.subplots(4, 5, figsize=(15,15))\n",
        "axes = axes.flatten()\n",
        "for i, image in enumerate(result_images):\n",
        "  axes[i].imshow(image, cmap='gray');\n",
        "  # axes[i].set_title(f\"Label: {}\")"
      ],
      "metadata": {
        "id": "G1q4kNBr4yu9"
      },
      "execution_count": null,
      "outputs": []
    },
    {
      "cell_type": "code",
      "source": [
        "sample_image2 = sample_image.copy()\n",
        "def Standardize(X):\n",
        "    #calcualte the mean of each column mu   \n",
        "    mu = np.mean(X, axis = 0) \n",
        "    \n",
        "    #Substract the mean from X\n",
        "    X = X - mu  \n",
        "    \n",
        "    #calcualte the standard deviation of each column std\n",
        "    std = np.std(X, axis = 0)  \n",
        "    \n",
        "    #handleing zero standard deviation\n",
        "    std_filled = std.copy()\n",
        "    std_filled[std == 0] = 1.0\n",
        "    \n",
        "    #calculate standardized X called Xbar\n",
        "    Xbar = (X-mu) / std_filled  \n",
        "    \n",
        "    return Xbar, mu, std\n",
        "\n",
        "\n",
        "def eig(S):\n",
        "    #calculate the eigen values and eigen vectors\n",
        "    eig_val, eig_vec = np.linalg.eigh(S)  \n",
        "    \n",
        "    #sorting them in decrasing order\n",
        "    sorted_eig  = np.argsort(-eig_val)\n",
        "    eig_val = eig_val[sorted_eig]\n",
        "    eig_vec = eig_vec[:, sorted_eig]\n",
        "    \n",
        "    return (eig_val, eig_vec)\n",
        "\n",
        "\n",
        "\n",
        "\n",
        "def projection_matrix(B):\n",
        "    #calculate the projection matrix P\n",
        "    P = B @ B.T \n",
        "    \n",
        "    return P\n",
        "\n",
        "\n",
        "def PCA(X, num_components):\n",
        "    #calculate the data covariance matrix S\n",
        "    S = np.cov(X)  \n",
        "    \n",
        "    #now find eigenvalues and corresponding eigenvectors for S by implementing eig().\n",
        "    eig_vals, eig_vecs = eig(S)\n",
        "    \n",
        "    #select eigen vectors\n",
        "    U = eig_vecs[:, range(num_components)]\n",
        "    \n",
        "    #reconstruct the images from the lowerdimensional representation\n",
        "    #to do this, we first need to find the projection_matrix (which you implemented earlier)\n",
        "    #which projects our input data onto the vector space spanned by the eigenvectors\n",
        "    P = projection_matrix(U) # projection matrix\n",
        "    \n",
        "    return P\n",
        "\n",
        "\n",
        "Xbar_train, mu_train, std_train = Standardize(sample_image2)\n",
        "\n",
        "def mse(predict, actual):\n",
        "    return np.square(predict - actual).sum(axis = 0).mean()\n",
        "\n",
        "\n",
        "\n"
      ],
      "metadata": {
        "id": "o2IqrcOqgYA5"
      },
      "execution_count": null,
      "outputs": []
    },
    {
      "cell_type": "code",
      "source": [
        "\n",
        "for num_component in range(1, 10):\n",
        "    projection = PCA(Xbar_train.T, num_component)\n",
        "    reconst = sample_image @ projection\n",
        "    error = mse(reconst, sample_image)\n",
        "    plt.imshow(reconst)"
      ],
      "metadata": {
        "id": "OERVNEtBpdqj"
      },
      "execution_count": null,
      "outputs": []
    },
    {
      "cell_type": "code",
      "source": [
        "sample_image.shape"
      ],
      "metadata": {
        "id": "KxZ0xDqZt6Zc"
      },
      "execution_count": null,
      "outputs": []
    },
    {
      "cell_type": "code",
      "source": [],
      "metadata": {
        "id": "bgPCQYabmJ7_"
      },
      "execution_count": null,
      "outputs": []
    }
  ]
}