{
  "nbformat": 4,
  "nbformat_minor": 0,
  "metadata": {
    "colab": {
      "provenance": []
    },
    "kernelspec": {
      "name": "python3",
      "display_name": "Python 3"
    },
    "language_info": {
      "name": "python"
    }
  },
  "cells": [
    {
      "cell_type": "code",
      "execution_count": null,
      "metadata": {
        "id": "xu0xMXoWZHuY"
      },
      "outputs": [],
      "source": [
        "import pandas as pd \n",
        "import numpy as np\n",
        "import tensorflow as tf\n",
        "import matplotlib.pyplot as plt\n",
        "import PIL\n",
        "from tensorflow.keras import models\n",
        "from tensorflow.keras.layers import * \n",
        "from tensorflow.keras.optimizers import * \n",
        "from tensorflow.keras.losses import * \n",
        "from tensorflow.keras.utils import to_categorical\n"
      ]
    },
    {
      "cell_type": "code",
      "source": [
        "train = pd.read_csv('/content/sample_data/mnist_train_small.csv')\n",
        "test = pd.read_csv('/content/sample_data/mnist_test.csv')"
      ],
      "metadata": {
        "id": "KAjNp149ZeBi"
      },
      "execution_count": null,
      "outputs": []
    },
    {
      "cell_type": "code",
      "source": [
        "test.head()"
      ],
      "metadata": {
        "colab": {
          "base_uri": "https://localhost:8080/",
          "height": 235
        },
        "id": "ZhrXHQDtZkr2",
        "outputId": "b8a95bff-c7f3-4e5d-85da-a0f9f3dbdd69"
      },
      "execution_count": null,
      "outputs": [
        {
          "output_type": "execute_result",
          "data": {
            "text/plain": [
              "   7  0  0.1  0.2  0.3  0.4  0.5  0.6  0.7  0.8  ...  0.658  0.659  0.660  \\\n",
              "0  2  0    0    0    0    0    0    0    0    0  ...      0      0      0   \n",
              "1  1  0    0    0    0    0    0    0    0    0  ...      0      0      0   \n",
              "2  0  0    0    0    0    0    0    0    0    0  ...      0      0      0   \n",
              "3  4  0    0    0    0    0    0    0    0    0  ...      0      0      0   \n",
              "4  1  0    0    0    0    0    0    0    0    0  ...      0      0      0   \n",
              "\n",
              "   0.661  0.662  0.663  0.664  0.665  0.666  0.667  \n",
              "0      0      0      0      0      0      0      0  \n",
              "1      0      0      0      0      0      0      0  \n",
              "2      0      0      0      0      0      0      0  \n",
              "3      0      0      0      0      0      0      0  \n",
              "4      0      0      0      0      0      0      0  \n",
              "\n",
              "[5 rows x 785 columns]"
            ],
            "text/html": [
              "\n",
              "  <div id=\"df-9ed7540e-88d4-401f-b838-5d32867dbb50\">\n",
              "    <div class=\"colab-df-container\">\n",
              "      <div>\n",
              "<style scoped>\n",
              "    .dataframe tbody tr th:only-of-type {\n",
              "        vertical-align: middle;\n",
              "    }\n",
              "\n",
              "    .dataframe tbody tr th {\n",
              "        vertical-align: top;\n",
              "    }\n",
              "\n",
              "    .dataframe thead th {\n",
              "        text-align: right;\n",
              "    }\n",
              "</style>\n",
              "<table border=\"1\" class=\"dataframe\">\n",
              "  <thead>\n",
              "    <tr style=\"text-align: right;\">\n",
              "      <th></th>\n",
              "      <th>7</th>\n",
              "      <th>0</th>\n",
              "      <th>0.1</th>\n",
              "      <th>0.2</th>\n",
              "      <th>0.3</th>\n",
              "      <th>0.4</th>\n",
              "      <th>0.5</th>\n",
              "      <th>0.6</th>\n",
              "      <th>0.7</th>\n",
              "      <th>0.8</th>\n",
              "      <th>...</th>\n",
              "      <th>0.658</th>\n",
              "      <th>0.659</th>\n",
              "      <th>0.660</th>\n",
              "      <th>0.661</th>\n",
              "      <th>0.662</th>\n",
              "      <th>0.663</th>\n",
              "      <th>0.664</th>\n",
              "      <th>0.665</th>\n",
              "      <th>0.666</th>\n",
              "      <th>0.667</th>\n",
              "    </tr>\n",
              "  </thead>\n",
              "  <tbody>\n",
              "    <tr>\n",
              "      <th>0</th>\n",
              "      <td>2</td>\n",
              "      <td>0</td>\n",
              "      <td>0</td>\n",
              "      <td>0</td>\n",
              "      <td>0</td>\n",
              "      <td>0</td>\n",
              "      <td>0</td>\n",
              "      <td>0</td>\n",
              "      <td>0</td>\n",
              "      <td>0</td>\n",
              "      <td>...</td>\n",
              "      <td>0</td>\n",
              "      <td>0</td>\n",
              "      <td>0</td>\n",
              "      <td>0</td>\n",
              "      <td>0</td>\n",
              "      <td>0</td>\n",
              "      <td>0</td>\n",
              "      <td>0</td>\n",
              "      <td>0</td>\n",
              "      <td>0</td>\n",
              "    </tr>\n",
              "    <tr>\n",
              "      <th>1</th>\n",
              "      <td>1</td>\n",
              "      <td>0</td>\n",
              "      <td>0</td>\n",
              "      <td>0</td>\n",
              "      <td>0</td>\n",
              "      <td>0</td>\n",
              "      <td>0</td>\n",
              "      <td>0</td>\n",
              "      <td>0</td>\n",
              "      <td>0</td>\n",
              "      <td>...</td>\n",
              "      <td>0</td>\n",
              "      <td>0</td>\n",
              "      <td>0</td>\n",
              "      <td>0</td>\n",
              "      <td>0</td>\n",
              "      <td>0</td>\n",
              "      <td>0</td>\n",
              "      <td>0</td>\n",
              "      <td>0</td>\n",
              "      <td>0</td>\n",
              "    </tr>\n",
              "    <tr>\n",
              "      <th>2</th>\n",
              "      <td>0</td>\n",
              "      <td>0</td>\n",
              "      <td>0</td>\n",
              "      <td>0</td>\n",
              "      <td>0</td>\n",
              "      <td>0</td>\n",
              "      <td>0</td>\n",
              "      <td>0</td>\n",
              "      <td>0</td>\n",
              "      <td>0</td>\n",
              "      <td>...</td>\n",
              "      <td>0</td>\n",
              "      <td>0</td>\n",
              "      <td>0</td>\n",
              "      <td>0</td>\n",
              "      <td>0</td>\n",
              "      <td>0</td>\n",
              "      <td>0</td>\n",
              "      <td>0</td>\n",
              "      <td>0</td>\n",
              "      <td>0</td>\n",
              "    </tr>\n",
              "    <tr>\n",
              "      <th>3</th>\n",
              "      <td>4</td>\n",
              "      <td>0</td>\n",
              "      <td>0</td>\n",
              "      <td>0</td>\n",
              "      <td>0</td>\n",
              "      <td>0</td>\n",
              "      <td>0</td>\n",
              "      <td>0</td>\n",
              "      <td>0</td>\n",
              "      <td>0</td>\n",
              "      <td>...</td>\n",
              "      <td>0</td>\n",
              "      <td>0</td>\n",
              "      <td>0</td>\n",
              "      <td>0</td>\n",
              "      <td>0</td>\n",
              "      <td>0</td>\n",
              "      <td>0</td>\n",
              "      <td>0</td>\n",
              "      <td>0</td>\n",
              "      <td>0</td>\n",
              "    </tr>\n",
              "    <tr>\n",
              "      <th>4</th>\n",
              "      <td>1</td>\n",
              "      <td>0</td>\n",
              "      <td>0</td>\n",
              "      <td>0</td>\n",
              "      <td>0</td>\n",
              "      <td>0</td>\n",
              "      <td>0</td>\n",
              "      <td>0</td>\n",
              "      <td>0</td>\n",
              "      <td>0</td>\n",
              "      <td>...</td>\n",
              "      <td>0</td>\n",
              "      <td>0</td>\n",
              "      <td>0</td>\n",
              "      <td>0</td>\n",
              "      <td>0</td>\n",
              "      <td>0</td>\n",
              "      <td>0</td>\n",
              "      <td>0</td>\n",
              "      <td>0</td>\n",
              "      <td>0</td>\n",
              "    </tr>\n",
              "  </tbody>\n",
              "</table>\n",
              "<p>5 rows × 785 columns</p>\n",
              "</div>\n",
              "      <button class=\"colab-df-convert\" onclick=\"convertToInteractive('df-9ed7540e-88d4-401f-b838-5d32867dbb50')\"\n",
              "              title=\"Convert this dataframe to an interactive table.\"\n",
              "              style=\"display:none;\">\n",
              "        \n",
              "  <svg xmlns=\"http://www.w3.org/2000/svg\" height=\"24px\"viewBox=\"0 0 24 24\"\n",
              "       width=\"24px\">\n",
              "    <path d=\"M0 0h24v24H0V0z\" fill=\"none\"/>\n",
              "    <path d=\"M18.56 5.44l.94 2.06.94-2.06 2.06-.94-2.06-.94-.94-2.06-.94 2.06-2.06.94zm-11 1L8.5 8.5l.94-2.06 2.06-.94-2.06-.94L8.5 2.5l-.94 2.06-2.06.94zm10 10l.94 2.06.94-2.06 2.06-.94-2.06-.94-.94-2.06-.94 2.06-2.06.94z\"/><path d=\"M17.41 7.96l-1.37-1.37c-.4-.4-.92-.59-1.43-.59-.52 0-1.04.2-1.43.59L10.3 9.45l-7.72 7.72c-.78.78-.78 2.05 0 2.83L4 21.41c.39.39.9.59 1.41.59.51 0 1.02-.2 1.41-.59l7.78-7.78 2.81-2.81c.8-.78.8-2.07 0-2.86zM5.41 20L4 18.59l7.72-7.72 1.47 1.35L5.41 20z\"/>\n",
              "  </svg>\n",
              "      </button>\n",
              "      \n",
              "  <style>\n",
              "    .colab-df-container {\n",
              "      display:flex;\n",
              "      flex-wrap:wrap;\n",
              "      gap: 12px;\n",
              "    }\n",
              "\n",
              "    .colab-df-convert {\n",
              "      background-color: #E8F0FE;\n",
              "      border: none;\n",
              "      border-radius: 50%;\n",
              "      cursor: pointer;\n",
              "      display: none;\n",
              "      fill: #1967D2;\n",
              "      height: 32px;\n",
              "      padding: 0 0 0 0;\n",
              "      width: 32px;\n",
              "    }\n",
              "\n",
              "    .colab-df-convert:hover {\n",
              "      background-color: #E2EBFA;\n",
              "      box-shadow: 0px 1px 2px rgba(60, 64, 67, 0.3), 0px 1px 3px 1px rgba(60, 64, 67, 0.15);\n",
              "      fill: #174EA6;\n",
              "    }\n",
              "\n",
              "    [theme=dark] .colab-df-convert {\n",
              "      background-color: #3B4455;\n",
              "      fill: #D2E3FC;\n",
              "    }\n",
              "\n",
              "    [theme=dark] .colab-df-convert:hover {\n",
              "      background-color: #434B5C;\n",
              "      box-shadow: 0px 1px 3px 1px rgba(0, 0, 0, 0.15);\n",
              "      filter: drop-shadow(0px 1px 2px rgba(0, 0, 0, 0.3));\n",
              "      fill: #FFFFFF;\n",
              "    }\n",
              "  </style>\n",
              "\n",
              "      <script>\n",
              "        const buttonEl =\n",
              "          document.querySelector('#df-9ed7540e-88d4-401f-b838-5d32867dbb50 button.colab-df-convert');\n",
              "        buttonEl.style.display =\n",
              "          google.colab.kernel.accessAllowed ? 'block' : 'none';\n",
              "\n",
              "        async function convertToInteractive(key) {\n",
              "          const element = document.querySelector('#df-9ed7540e-88d4-401f-b838-5d32867dbb50');\n",
              "          const dataTable =\n",
              "            await google.colab.kernel.invokeFunction('convertToInteractive',\n",
              "                                                     [key], {});\n",
              "          if (!dataTable) return;\n",
              "\n",
              "          const docLinkHtml = 'Like what you see? Visit the ' +\n",
              "            '<a target=\"_blank\" href=https://colab.research.google.com/notebooks/data_table.ipynb>data table notebook</a>'\n",
              "            + ' to learn more about interactive tables.';\n",
              "          element.innerHTML = '';\n",
              "          dataTable['output_type'] = 'display_data';\n",
              "          await google.colab.output.renderOutput(dataTable, element);\n",
              "          const docLink = document.createElement('div');\n",
              "          docLink.innerHTML = docLinkHtml;\n",
              "          element.appendChild(docLink);\n",
              "        }\n",
              "      </script>\n",
              "    </div>\n",
              "  </div>\n",
              "  "
            ]
          },
          "metadata": {},
          "execution_count": 3
        }
      ]
    },
    {
      "cell_type": "code",
      "source": [
        "test.info(), train.info()"
      ],
      "metadata": {
        "colab": {
          "base_uri": "https://localhost:8080/"
        },
        "id": "XF9lo77aZxX2",
        "outputId": "bc2526f7-0b7d-4dc6-f0c3-78972e835026"
      },
      "execution_count": null,
      "outputs": [
        {
          "output_type": "stream",
          "name": "stdout",
          "text": [
            "<class 'pandas.core.frame.DataFrame'>\n",
            "RangeIndex: 9999 entries, 0 to 9998\n",
            "Columns: 785 entries, 7 to 0.667\n",
            "dtypes: int64(785)\n",
            "memory usage: 59.9 MB\n",
            "<class 'pandas.core.frame.DataFrame'>\n",
            "RangeIndex: 19999 entries, 0 to 19998\n",
            "Columns: 785 entries, 6 to 0.590\n",
            "dtypes: int64(785)\n",
            "memory usage: 119.8 MB\n"
          ]
        },
        {
          "output_type": "execute_result",
          "data": {
            "text/plain": [
              "(None, None)"
            ]
          },
          "metadata": {},
          "execution_count": 4
        }
      ]
    },
    {
      "cell_type": "code",
      "source": [
        "train.shape, test.shape"
      ],
      "metadata": {
        "colab": {
          "base_uri": "https://localhost:8080/"
        },
        "id": "q_MSMVGDZ4sB",
        "outputId": "11794ab6-ada1-4e19-b3b2-01b9d6981287"
      },
      "execution_count": null,
      "outputs": [
        {
          "output_type": "execute_result",
          "data": {
            "text/plain": [
              "((19999, 785), (9999, 785))"
            ]
          },
          "metadata": {},
          "execution_count": 5
        }
      ]
    },
    {
      "cell_type": "code",
      "source": [
        "label = train.iloc[0]\n",
        "image = train.iloc[0].drop('6', axis=0)\n",
        "img = PIL.Image.fromarray(np.array(image).reshape(28,28).astype(np.uint8))\n",
        "img"
      ],
      "metadata": {
        "colab": {
          "base_uri": "https://localhost:8080/",
          "height": 45
        },
        "id": "FS3TheOHZ-dW",
        "outputId": "9d98f4f2-2f77-4acc-c58c-ec403045f6f8"
      },
      "execution_count": null,
      "outputs": [
        {
          "output_type": "execute_result",
          "data": {
            "text/plain": [
              "<PIL.Image.Image image mode=L size=28x28 at 0x7FD667968250>"
            ],
            "image/png": "[encoded data removed]"
          },
          "metadata": {},
          "execution_count": 6
        }
      ]
    },
    {
      "cell_type": "code",
      "source": [
        "plt.imshow(np.array(image).reshape(28,28).astype(np.uint8), cmap='gray');"
      ],
      "metadata": {
        "colab": {
          "base_uri": "https://localhost:8080/",
          "height": 265
        },
        "id": "32d6_116doBh",
        "outputId": "3fceb699-0f13-4aa0-c054-e6c845f23b6e"
      },
      "execution_count": null,
      "outputs": [
        {
          "output_type": "display_data",
          "data": {
            "text/plain": [
              "<Figure size 432x288 with 1 Axes>"
            ],
            "image/png": "[encoded data removed]"
          },
          "metadata": {
            "needs_background": "light"
          }
        }
      ]
    },
    {
      "cell_type": "code",
      "source": [
        "labels = train.iloc[:10,0]\n",
        "labels"
      ],
      "metadata": {
        "colab": {
          "base_uri": "https://localhost:8080/"
        },
        "id": "lbPE9fm-eImY",
        "outputId": "8c403fe5-3554-4a6e-c702-60ab7d62d166"
      },
      "execution_count": null,
      "outputs": [
        {
          "output_type": "execute_result",
          "data": {
            "text/plain": [
              "0    5\n",
              "1    7\n",
              "2    9\n",
              "3    5\n",
              "4    2\n",
              "5    0\n",
              "6    6\n",
              "7    5\n",
              "8    5\n",
              "9    2\n",
              "Name: 6, dtype: int64"
            ]
          },
          "metadata": {},
          "execution_count": 8
        }
      ]
    },
    {
      "cell_type": "code",
      "source": [
        "img = np.array(train.iloc[:10, 1:]).reshape(10, 28, 28)\n",
        "plt.imshow(img[0], cmap='gray');"
      ],
      "metadata": {
        "colab": {
          "base_uri": "https://localhost:8080/",
          "height": 265
        },
        "id": "8IWWfFA5g7kX",
        "outputId": "32dcad43-cf14-4e6f-c4ec-385c0728e036"
      },
      "execution_count": null,
      "outputs": [
        {
          "output_type": "display_data",
          "data": {
            "text/plain": [
              "<Figure size 432x288 with 1 Axes>"
            ],
            "image/png": "[encoded data removed]"
          },
          "metadata": {
            "needs_background": "light"
          }
        }
      ]
    },
    {
      "cell_type": "code",
      "source": [
        "labels = train.iloc[:10,0]\n",
        "img = np.array(train.iloc[:10, 1:]).reshape(10, 28,28)\n",
        "fig, axes = plt.subplots(4, 2, figsize=(15,15))\n",
        "axes = axes.flatten()\n",
        "for i in range(8):\n",
        "  axes[i].imshow(img[i], cmap='gray');\n",
        "  axes[i].set_title(f\"Label: {labels[i]}\")"
      ],
      "metadata": {
        "colab": {
          "base_uri": "https://localhost:8080/",
          "height": 879
        },
        "id": "ijoEiC3IcEIT",
        "outputId": "3217d17e-4579-4125-f905-9382f3137902"
      },
      "execution_count": null,
      "outputs": [
        {
          "output_type": "display_data",
          "data": {
            "text/plain": [
              "<Figure size 1080x1080 with 8 Axes>"
            ],
            "image/png": "[encoded data removed]"
          },
          "metadata": {
            "needs_background": "light"
          }
        }
      ]
    },
    {
      "cell_type": "code",
      "source": [
        "# validation split\n",
        "from sklearn.model_selection import train_test_split\n",
        "trainY = to_categorical(train['6'])\n",
        "X = train.drop('6', axis=1)/255\n",
        "testX = test.drop('5', axis=1)/255\n",
        "testY = to_categorical(test['7'])\n",
        "trainX, valX, trainY, valY = train_test_split(X, trainY, test_size=0.2, shuffle=True, random_state=23)"
      ],
      "metadata": {
        "id": "qGBO3mmcdKyn"
      },
      "execution_count": null,
      "outputs": []
    },
    {
      "cell_type": "code",
      "source": [
        "trainY.shape, valY.shape"
      ],
      "metadata": {
        "colab": {
          "base_uri": "https://localhost:8080/"
        },
        "id": "eWJFVfrNiMpV",
        "outputId": "00ae0de9-c142-4f2d-9416-0fb8087ef6e1"
      },
      "execution_count": null,
      "outputs": [
        {
          "output_type": "execute_result",
          "data": {
            "text/plain": [
              "((15999, 10), (4000, 10))"
            ]
          },
          "metadata": {},
          "execution_count": 12
        }
      ]
    },
    {
      "cell_type": "code",
      "source": [
        "testX.shape, testY.shape"
      ],
      "metadata": {
        "colab": {
          "base_uri": "https://localhost:8080/"
        },
        "id": "ht37SXF1iQ15",
        "outputId": "58ec4ee1-5123-447b-df84-046190d493b4"
      },
      "execution_count": null,
      "outputs": [
        {
          "output_type": "execute_result",
          "data": {
            "text/plain": [
              "((9999, 784), (9999, 10))"
            ]
          },
          "metadata": {},
          "execution_count": 13
        }
      ]
    },
    {
      "cell_type": "code",
      "source": [
        "np.mean(trainX.iloc[0]) # asserting it is normalized"
      ],
      "metadata": {
        "colab": {
          "base_uri": "https://localhost:8080/"
        },
        "id": "gVH60cBtjAKL",
        "outputId": "f4621fdf-3a21-4800-d011-698bdd06fa32"
      },
      "execution_count": null,
      "outputs": [
        {
          "output_type": "execute_result",
          "data": {
            "text/plain": [
              "0.14181672669067627"
            ]
          },
          "metadata": {},
          "execution_count": 14
        }
      ]
    },
    {
      "cell_type": "code",
      "source": [
        "# model building\n",
        "from tensorflow.keras.callbacks import  ModelCheckpoint\n",
        "\n",
        "model = models.Sequential()\n",
        "model.add(Reshape(target_shape=(28,28,1), input_shape=(784, )))\n",
        "model.add(Conv2D(32,kernel_size=(3,3), activation='relu', kernel_initializer='normal'))\n",
        "model.add(Conv1D(64, kernel_size=3, activation='relu', kernel_initializer='normal'))\n",
        "model.add(Flatten())\n",
        "# model.add(Dense(50, activation='relu', kernel_initializer='normal'))\n",
        "model.add(Dense(10,  activation='softmax'))\n",
        "\n",
        "# loss = CategoricalCrossentropy()\n",
        "# optimizer = Adam()\n",
        "\n",
        "cp = ModelCheckpoint(\"models/mnist_cls\" ,save_best_only=True)\n",
        "epoch = 5\n",
        "batch_size = 100\n",
        "model.compile(\n",
        "    loss = 'categorical_crossentropy', \n",
        "    optimizer = 'adam',\n",
        "    metrics = ['accuracy']\n",
        ")\n",
        "\n"
      ],
      "metadata": {
        "id": "GIawROWcjbCg"
      },
      "execution_count": null,
      "outputs": []
    },
    {
      "cell_type": "code",
      "source": [
        "model.summary()"
      ],
      "metadata": {
        "colab": {
          "base_uri": "https://localhost:8080/"
        },
        "id": "eFoV2Rflk9D7",
        "outputId": "41eaf447-bba9-44e3-e3de-39aa6dbe74b4"
      },
      "execution_count": null,
      "outputs": [
        {
          "output_type": "stream",
          "name": "stdout",
          "text": [
            "Model: \"sequential_2\"\n",
            "_________________________________________________________________\n",
            " Layer (type)                Output Shape              Param #   \n",
            "=================================================================\n",
            " reshape_2 (Reshape)         (None, 28, 28, 1)         0         \n",
            "                                                                 \n",
            " conv2d_2 (Conv2D)           (None, 26, 26, 32)        320       \n",
            "                                                                 \n",
            " conv1d_2 (Conv1D)           (None, 26, 24, 64)        6208      \n",
            "                                                                 \n",
            " flatten_2 (Flatten)         (None, 39936)             0         \n",
            "                                                                 \n",
            " dense_4 (Dense)             (None, 10)                399370    \n",
            "                                                                 \n",
            "=================================================================\n",
            "Total params: 405,898\n",
            "Trainable params: 405,898\n",
            "Non-trainable params: 0\n",
            "_________________________________________________________________\n"
          ]
        }
      ]
    },
    {
      "cell_type": "code",
      "source": [
        "model.fit(trainX, trainY, [validation_data=(valX, valY), epochs=epoch, batch_size=batch_size,callbacks=[cp], shuffle=True)"
      ],
      "metadata": {
        "colab": {
          "base_uri": "https://localhost:8080/"
        },
        "id": "xiNtJVx6lYkL",
        "outputId": "4408d54e-aed3-475c-b52a-6b1aeb025b1c"
      },
      "execution_count": null,
      "outputs": [
        {
          "output_type": "stream",
          "name": "stdout",
          "text": [
            "Epoch 1/5\n",
            "160/160 [==============================] - 22s 132ms/step - loss: 0.4562 - accuracy: 0.8729 - val_loss: 0.1896 - val_accuracy: 0.9438\n",
            "Epoch 2/5\n",
            "160/160 [==============================] - 22s 137ms/step - loss: 0.1339 - accuracy: 0.9616 - val_loss: 0.0991 - val_accuracy: 0.9710\n",
            "Epoch 3/5\n",
            "160/160 [==============================] - 21s 129ms/step - loss: 0.0764 - accuracy: 0.9775 - val_loss: 0.0858 - val_accuracy: 0.9740\n",
            "Epoch 4/5\n",
            "160/160 [==============================] - 24s 148ms/step - loss: 0.0462 - accuracy: 0.9859 - val_loss: 0.0790 - val_accuracy: 0.9758\n",
            "Epoch 5/5\n",
            "160/160 [==============================] - 20s 125ms/step - loss: 0.0334 - accuracy: 0.9902 - val_loss: 0.0965 - val_accuracy: 0.9705\n"
          ]
        },
        {
          "output_type": "execute_result",
          "data": {
            "text/plain": [
              "<keras.callbacks.History at 0x7f3073344f10>"
            ]
          },
          "metadata": {},
          "execution_count": 63
        }
      ]
    },
    {
      "cell_type": "code",
      "source": [
        "preds = model.predict(testX)"
      ],
      "metadata": {
        "id": "YUQ6afwzlykg"
      },
      "execution_count": null,
      "outputs": []
    },
    {
      "cell_type": "code",
      "source": [
        "preds"
      ],
      "metadata": {
        "colab": {
          "base_uri": "https://localhost:8080/"
        },
        "id": "jMBeGfPi6pjR",
        "outputId": "7d3164e0-2a07-4283-d721-3ee2e3222a40"
      },
      "execution_count": null,
      "outputs": [
        {
          "output_type": "execute_result",
          "data": {
            "text/plain": [
              "array([[9.5994896e-12, 6.0239313e-06, 9.9999344e-01, ..., 4.2091554e-20,\n",
              "        2.2307173e-08, 1.2485293e-16],\n",
              "       [1.5712830e-06, 9.2559242e-01, 5.3686272e-02, ..., 1.5130191e-02,\n",
              "        1.1593050e-03, 1.7147620e-05],\n",
              "       [9.9980754e-01, 5.7619850e-11, 1.5932052e-04, ..., 1.6357994e-09,\n",
              "        1.3879090e-09, 2.1788682e-10],\n",
              "       ...,\n",
              "       [1.4305178e-08, 1.9332869e-09, 2.2838331e-09, ..., 1.0896646e-05,\n",
              "        1.8459434e-05, 7.5476046e-06],\n",
              "       [4.5789279e-09, 1.2640455e-09, 1.5266206e-10, ..., 2.8556095e-09,\n",
              "        1.1582650e-04, 8.4393399e-08],\n",
              "       [2.4317255e-09, 3.3922170e-15, 5.1917518e-06, ..., 1.1994612e-14,\n",
              "        7.0284789e-12, 7.6313343e-16]], dtype=float32)"
            ]
          },
          "metadata": {},
          "execution_count": 65
        }
      ]
    },
    {
      "cell_type": "code",
      "source": [
        "preds.shape, testX.shape, testY.shape"
      ],
      "metadata": {
        "colab": {
          "base_uri": "https://localhost:8080/"
        },
        "id": "bM1wjLNM455C",
        "outputId": "b6c78f37-63b8-48dc-c12a-1247de571ea6"
      },
      "execution_count": null,
      "outputs": [
        {
          "output_type": "execute_result",
          "data": {
            "text/plain": [
              "((9999, 10), (9999, 784), (9999, 10))"
            ]
          },
          "metadata": {},
          "execution_count": 66
        }
      ]
    },
    {
      "cell_type": "code",
      "source": [
        "def labeler(preds):\n",
        "  preds[preds>=0.5] = 1\n",
        "  preds[preds<0.5] = 0"
      ],
      "metadata": {
        "id": "VzePpPc6A5f4"
      },
      "execution_count": null,
      "outputs": []
    },
    {
      "cell_type": "code",
      "source": [
        "labeler(preds)"
      ],
      "metadata": {
        "id": "9q5ReZ32M7SE"
      },
      "execution_count": null,
      "outputs": []
    },
    {
      "cell_type": "code",
      "source": [
        "from tensorflow.keras.models import load_model\n",
        "saved_model = load_model(\"/content/models/mnist_cls\")\n",
        "saved_model.summary()"
      ],
      "metadata": {
        "colab": {
          "base_uri": "https://localhost:8080/"
        },
        "id": "FGKPrpF6KcIl",
        "outputId": "289c4517-509b-4f59-f3d3-9762519fec68"
      },
      "execution_count": null,
      "outputs": [
        {
          "output_type": "stream",
          "name": "stdout",
          "text": [
            "Model: \"sequential_2\"\n",
            "_________________________________________________________________\n",
            " Layer (type)                Output Shape              Param #   \n",
            "=================================================================\n",
            " reshape_2 (Reshape)         (None, 28, 28, 1)         0         \n",
            "                                                                 \n",
            " conv2d_2 (Conv2D)           (None, 26, 26, 32)        320       \n",
            "                                                                 \n",
            " conv1d_2 (Conv1D)           (None, 26, 24, 64)        6208      \n",
            "                                                                 \n",
            " flatten_2 (Flatten)         (None, 39936)             0         \n",
            "                                                                 \n",
            " dense_4 (Dense)             (None, 10)                399370    \n",
            "                                                                 \n",
            "=================================================================\n",
            "Total params: 405,898\n",
            "Trainable params: 405,898\n",
            "Non-trainable params: 0\n",
            "_________________________________________________________________\n"
          ]
        }
      ]
    },
    {
      "cell_type": "code",
      "source": [
        "preds  = saved_model.predict(testX)\n",
        "labeler(preds)"
      ],
      "metadata": {
        "id": "IE3umA6sKwXt"
      },
      "execution_count": null,
      "outputs": []
    },
    {
      "cell_type": "code",
      "source": [
        "accuracy_score(testY, preds)"
      ],
      "metadata": {
        "colab": {
          "base_uri": "https://localhost:8080/"
        },
        "id": "JMRICDzmK_EU",
        "outputId": "ca62625c-e9b2-46f8-f5df-64a567904c01"
      },
      "execution_count": null,
      "outputs": [
        {
          "output_type": "execute_result",
          "data": {
            "text/plain": [
              "0.9648964896489649"
            ]
          },
          "metadata": {},
          "execution_count": 73
        }
      ]
    },
    {
      "cell_type": "markdown",
      "source": [
        "# Pytorch model "
      ],
      "metadata": {
        "id": "gKFKF61tPPdZ"
      }
    },
    {
      "cell_type": "code",
      "source": [
        "import torch \n",
        "from torch import nn \n"
      ],
      "metadata": {
        "id": "QoujHtIjPRhJ"
      },
      "execution_count": null,
      "outputs": []
    },
    {
      "cell_type": "code",
      "source": [
        "class mnist_classifier(nn.Module):\n",
        "  def __init__(self, input):\n",
        "    super(mnist_classifier, self).__init__()\n",
        "    self.\n",
        "\n",
        "\n",
        "  def forward(self):\n",
        "    pass\n"
      ],
      "metadata": {
        "id": "AtrPZzaEPU0n"
      },
      "execution_count": null,
      "outputs": []
    },
    {
      "cell_type": "code",
      "source": [
        "\n",
        "class Net(nn.Module):\n",
        "    def __init__(self):\n",
        "        super(Net, self).__init__()\n",
        "        self.conv1 = nn.Conv2d(1, 32, kernel_size=5)\n",
        "        self.conv2 = nn.Conv2d(32, 32, kernel_size=5)\n",
        "        self.conv3 = nn.Conv2d(32,64, kernel_size=5)\n",
        "        self.fc1 = nn.Linear(3*3*64, 256)\n",
        "        self.fc2 = nn.Linear(256, 10)\n",
        "\n",
        "\n",
        "    def forward(self, x):\n",
        "        x = F.relu(self.conv1(x))\n",
        "        x = F.dropout(x, p=0.5, training=self.training)\n",
        "        x = F.relu(F.max_pool2d(self.conv2(x), 2))\n",
        "        x = F.dropout(x, p=0.5, training=self.training)\n",
        "        x = F.relu(F.max_pool2d(self.conv3(x),2))\n",
        "        x = F.dropout(x, p=0.5, training=self.training)\n",
        "        x = x.view(-1,3*3*64 )\n",
        "        x = F.relu(self.fc1(x))\n",
        "        x = F.dropout(x, training=self.training)\n",
        "        x = self.fc2(x)\n",
        "        return F.log_softmax(x, dim=1)\n",
        "    \n",
        "net = Net()\n",
        "\n",
        "net"
      ],
      "metadata": {
        "colab": {
          "base_uri": "https://localhost:8080/"
        },
        "id": "OLZd9_gzaUDW",
        "outputId": "76245b23-c085-459f-e76a-fe612db6338d"
      },
      "execution_count": null,
      "outputs": [
        {
          "output_type": "execute_result",
          "data": {
            "text/plain": [
              "Net(\n",
              "  (conv1): Conv2d(1, 32, kernel_size=(5, 5), stride=(1, 1))\n",
              "  (conv2): Conv2d(32, 32, kernel_size=(5, 5), stride=(1, 1))\n",
              "  (conv3): Conv2d(32, 64, kernel_size=(5, 5), stride=(1, 1))\n",
              "  (fc1): Linear(in_features=576, out_features=256, bias=True)\n",
              "  (fc2): Linear(in_features=256, out_features=10, bias=True)\n",
              ")"
            ]
          },
          "metadata": {},
          "execution_count": 20
        }
      ]
    },
    {
      "cell_type": "code",
      "source": [
        "trainX = trainX.reshape(15999, 1, 28, 28)\n",
        "testX = testX.reshape(9999, 1, 28, 28)\n",
        "valX = valX.reshape(4000, 1, 28, 28)"
      ],
      "metadata": {
        "id": "yKrRNvFsgHKC"
      },
      "execution_count": null,
      "outputs": []
    },
    {
      "cell_type": "code",
      "source": [
        "valX.shape"
      ],
      "metadata": {
        "colab": {
          "base_uri": "https://localhost:8080/"
        },
        "id": "vd8JVz0GiNh4",
        "outputId": "5a991045-7814-4f56-ca93-ac64b11c6bc6"
      },
      "execution_count": null,
      "outputs": [
        {
          "output_type": "execute_result",
          "data": {
            "text/plain": [
              "(4000, 1, 28, 28)"
            ]
          },
          "metadata": {},
          "execution_count": 48
        }
      ]
    },
    {
      "cell_type": "code",
      "source": [
        "import pandas as pd \n",
        "import numpy as np"
      ],
      "metadata": {
        "id": "7m0H2MRC9bwo"
      },
      "execution_count": null,
      "outputs": []
    },
    {
      "cell_type": "code",
      "source": [
        "train = pd.read_csv('/content/sample_data/mnist_train_small.csv')\n",
        "test = pd.read_csv('/content/sample_data/mnist_test.csv')"
      ],
      "metadata": {
        "id": "TwCIh-BHVSxQ"
      },
      "execution_count": null,
      "outputs": []
    },
    {
      "cell_type": "code",
      "source": [
        "from sklearn.model_selection import train_test_split\n",
        "trainY = train['6']\n",
        "trainX = train.drop('6', axis=1)/255\n",
        "testX = test.drop('7', axis=1)/255\n",
        "testY = test['7']\n",
        "trainX, valX, trainY, valY = train_test_split(trainX, trainY, test_size=0.2, shuffle=True, random_state=23)"
      ],
      "metadata": {
        "id": "ZC4k1ioYVBQ-"
      },
      "execution_count": null,
      "outputs": []
    },
    {
      "cell_type": "code",
      "source": [
        "trainX = trainX.values.reshape(15999, 1, 28, 28)\n",
        "testX = testX.values.reshape(9999, 1, 28, 28)\n",
        "valX = valX.values.reshape(4000, 1, 28, 28)"
      ],
      "metadata": {
        "id": "kle1rC59VwIA"
      },
      "execution_count": null,
      "outputs": []
    },
    {
      "cell_type": "code",
      "source": [
        "# defined model;\n",
        "from torch import nn \n",
        "from torch import optim\n",
        "import torch\n",
        "import torch.nn.functional as F\n",
        "\n",
        "\n",
        "class Net(nn.Module):\n",
        "    def __init__(self):\n",
        "        super(Net, self).__init__()\n",
        "        self.conv1 = nn.Conv2d(1, 32, kernel_size=5)\n",
        "        self.conv2 = nn.Conv2d(32, 32, kernel_size=5)\n",
        "        self.conv3 = nn.Conv2d(32,64, kernel_size=5)\n",
        "        self.fc1 = nn.Linear(3*3*64, 256)\n",
        "        self.fc2 = nn.Linear(256, 10)\n",
        "\n",
        "    def forward(self, x):\n",
        "        x = F.relu(self.conv1(x))\n",
        "        x = F.dropout(x, p=0.5, training=self.training)\n",
        "        x = F.relu(F.max_pool2d(self.conv2(x), 2))\n",
        "        x = F.dropout(x, p=0.5, training=self.training)\n",
        "        x = F.relu(F.max_pool2d(self.conv3(x),2))\n",
        "        x = F.dropout(x, p=0.5, training=self.training)\n",
        "        x = x.view(-1,3*3*64 )\n",
        "        x = F.relu(self.fc1(x))\n",
        "        x = F.dropout(x, training=self.training)\n",
        "        x = self.fc2(x)\n",
        "        return F.log_softmax(x, dim=1)\n",
        "    \n",
        "net = Net()\n",
        "\n",
        "# loss and optimization functions;\n",
        "criterion = nn.CrossEntropyLoss()\n",
        "optimizer = optim.SGD(net.parameters(), lr=0.001, momentum=0.9)\n",
        "\n",
        "# dataset preparation special for pytorch;\n",
        "torch_x_train = torch.from_numpy(trainX).type(torch.FloatTensor)\n",
        "torch_y_train = torch.from_numpy(trainY.values).type(torch.LongTensor) # numpy array to Float and Long Tensor conversion respectively (value, label);\n",
        "\n",
        "train = torch.utils.data.TensorDataset(torch_x_train,torch_y_train) # making dataset using TensorDataset;\n",
        "\n",
        "train_loader = torch.utils.data.DataLoader(train, batch_size = 32, shuffle = False) # Creating DataLoader object so that it makes data easire way to grab and train;\n",
        "\n",
        "torch_x_val = torch.from_numpy(valX).type(torch.FloatTensor)\n",
        "torch_y_val = torch.from_numpy(valY.values).type(torch.LongTensor)\n",
        "\n",
        "val = torch.utils.data.TensorDataset(torch_x_val, torch_y_val) # again makes label and value like tuple to process easier\n",
        " \n",
        "val_loader = torch.utils.data.DataLoader(val, shuffle=True, batch_size=1) # this makes data preprocessing easier like sampling, dividing batches;\n",
        "\n",
        "\n"
      ],
      "metadata": {
        "id": "LKc76Z5RiNd-"
      },
      "execution_count": null,
      "outputs": []
    },
    {
      "cell_type": "code",
      "source": [
        "for i in train:\n",
        "  print(i[1])\n",
        "  break"
      ],
      "metadata": {
        "colab": {
          "base_uri": "https://localhost:8080/"
        },
        "id": "Ubp-4z3JaFuY",
        "outputId": "68cbe235-96f8-44eb-c134-1ffe27047191"
      },
      "execution_count": null,
      "outputs": [
        {
          "output_type": "stream",
          "name": "stdout",
          "text": [
            "tensor(4)\n"
          ]
        }
      ]
    },
    {
      "cell_type": "code",
      "source": [
        "for i in train_loader:\n",
        "  print(i[0].shape, i[1].shape)  # train_loader contains dataset divided due to batch size given. and labels aside batches. this is easier to process. \n",
        "  break"
      ],
      "metadata": {
        "colab": {
          "base_uri": "https://localhost:8080/"
        },
        "id": "9vMB4b_xY2fg",
        "outputId": "790a7ca3-5fb9-4cfb-c9c8-a9525f37778f"
      },
      "execution_count": null,
      "outputs": [
        {
          "output_type": "stream",
          "name": "stdout",
          "text": [
            "torch.Size([32, 1, 28, 28]) torch.Size([32])\n"
          ]
        }
      ]
    },
    {
      "cell_type": "code",
      "source": [
        "torch.manual_seed(1234)\n",
        "\n",
        "\n",
        "for epoch in range(10):\n",
        "    running_loss = 0.0\n",
        "    for i, data in enumerate(train_loader, 0):\n",
        "        inputs, labels = data\n",
        "        \n",
        "      \n",
        "        # zero the parameter gradients\n",
        "        optimizer.zero_grad()\n",
        "\n",
        "        # forward + backward + optimize\n",
        "        outputs = net(inputs)\n",
        "        loss = criterion(outputs, labels)\n",
        "        loss.backward()\n",
        "        optimizer.step()\n",
        "        \n",
        "\n",
        "        # print statistics\n",
        "        running_loss += loss.item()\n",
        "        if i % 500 == 499:    # print every 500 mini-batches\n",
        "            print('[%d, %5d] loss: %.3f' % (epoch + 1, i+1, loss.item()))\n",
        "            outputs = net(torch_x_val)\n",
        "            loss_val = criterion(outputs, torch_y_val)\n",
        "            print(loss_val.item())\n",
        "#             print('[%d, %5d] loss: %.3f' % (epoch + 1, i, running_loss / 500))\n",
        "#             running_loss = 0.0\n",
        "\n",
        "print('Finished Training')"
      ],
      "metadata": {
        "id": "AOzmmK1wjAop"
      },
      "execution_count": null,
      "outputs": []
    },
    {
      "cell_type": "code",
      "source": [
        "path = r\"/content/models/model.pb\"\n",
        "torch.save(net.state_dict(), path)"
      ],
      "metadata": {
        "id": "k86Fhn9Xiy2b"
      },
      "execution_count": null,
      "outputs": []
    },
    {
      "cell_type": "code",
      "source": [
        "model = Net()\n",
        "model.load_state_dict(torch.load(path))"
      ],
      "metadata": {
        "colab": {
          "base_uri": "https://localhost:8080/"
        },
        "id": "xR5L60KcurUe",
        "outputId": "e78b25a9-84b1-4548-e5ee-5d2156d0f348"
      },
      "execution_count": null,
      "outputs": [
        {
          "output_type": "execute_result",
          "data": {
            "text/plain": [
              "<All keys matched successfully>"
            ]
          },
          "metadata": {},
          "execution_count": 172
        }
      ]
    },
    {
      "cell_type": "code",
      "source": [
        "model.eval()"
      ],
      "metadata": {
        "colab": {
          "base_uri": "https://localhost:8080/"
        },
        "id": "cBHVaYSLvVfn",
        "outputId": "49f25df5-a22f-434b-c44d-0a126f678544"
      },
      "execution_count": null,
      "outputs": [
        {
          "output_type": "execute_result",
          "data": {
            "text/plain": [
              "Net(\n",
              "  (conv1): Conv2d(1, 32, kernel_size=(5, 5), stride=(1, 1))\n",
              "  (conv2): Conv2d(32, 32, kernel_size=(5, 5), stride=(1, 1))\n",
              "  (conv3): Conv2d(32, 64, kernel_size=(5, 5), stride=(1, 1))\n",
              "  (fc1): Linear(in_features=576, out_features=256, bias=True)\n",
              "  (fc2): Linear(in_features=256, out_features=10, bias=True)\n",
              ")"
            ]
          },
          "metadata": {},
          "execution_count": 173
        }
      ]
    },
    {
      "cell_type": "code",
      "source": [
        "preds = model(torch_x_val)"
      ],
      "metadata": {
        "id": "Sm7I1oJEvctb"
      },
      "execution_count": null,
      "outputs": []
    },
    {
      "cell_type": "code",
      "source": [
        "preds"
      ],
      "metadata": {
        "colab": {
          "base_uri": "https://localhost:8080/"
        },
        "id": "-OqUn9TqPmLy",
        "outputId": "1d1da65b-f6f4-4fcf-ec58-141d84e627ab"
      },
      "execution_count": null,
      "outputs": [
        {
          "output_type": "execute_result",
          "data": {
            "text/plain": [
              "tensor([[-4.3049e-04, -1.4989e+01, -8.2546e+00,  ..., -1.1821e+01,\n",
              "         -9.6756e+00, -1.1895e+01],\n",
              "        [-3.4831e-02, -1.0040e+01, -4.3102e+00,  ..., -7.6568e+00,\n",
              "         -8.0395e+00, -4.4425e+00],\n",
              "        [-1.0784e+01, -9.1624e+00, -3.6970e-02,  ..., -5.9670e+00,\n",
              "         -5.0335e+00, -1.0983e+01],\n",
              "        ...,\n",
              "        [-6.7063e+00, -9.3133e+00, -7.2613e+00,  ..., -1.3667e+01,\n",
              "         -8.4086e+00, -1.0853e+01],\n",
              "        [-8.6346e+00, -3.2576e+00, -5.7103e+00,  ..., -1.1069e+01,\n",
              "         -5.5252e+00, -1.2314e+01],\n",
              "        [-1.1491e+01, -1.0901e+01, -1.0921e+01,  ..., -8.7150e+00,\n",
              "         -1.1416e+01, -5.2598e+00]], grad_fn=<LogSoftmaxBackward0>)"
            ]
          },
          "metadata": {},
          "execution_count": 183
        }
      ]
    },
    {
      "cell_type": "code",
      "source": [
        "_, predicted = torch.max(preds, 1)\n",
        "predicted[:20]"
      ],
      "metadata": {
        "colab": {
          "base_uri": "https://localhost:8080/"
        },
        "id": "fozUq90qTsmL",
        "outputId": "5a3cc004-d3a2-4502-e77b-a33580f322d2"
      },
      "execution_count": null,
      "outputs": [
        {
          "output_type": "execute_result",
          "data": {
            "text/plain": [
              "tensor([0, 0, 2, 4, 2, 3, 3, 3, 4, 1, 0, 5, 9, 6, 2, 0, 1, 8, 3, 6])"
            ]
          },
          "metadata": {},
          "execution_count": 192
        }
      ]
    },
    {
      "cell_type": "code",
      "source": [],
      "metadata": {
        "id": "bxFJztAW0lo2"
      },
      "execution_count": null,
      "outputs": []
    },
    {
      "cell_type": "code",
      "source": [
        "predicted.unique()"
      ],
      "metadata": {
        "colab": {
          "base_uri": "https://localhost:8080/"
        },
        "id": "21B_WOXG2Trb",
        "outputId": "eb45b53a-c27a-40f3-b9bf-872a47fe69be"
      },
      "execution_count": null,
      "outputs": [
        {
          "output_type": "execute_result",
          "data": {
            "text/plain": [
              "tensor([0, 1, 2, 3, 4, 5, 6, 7, 8, 9])"
            ]
          },
          "metadata": {},
          "execution_count": 185
        }
      ]
    },
    {
      "cell_type": "code",
      "source": [
        "torch_y_val.unique()"
      ],
      "metadata": {
        "colab": {
          "base_uri": "https://localhost:8080/"
        },
        "id": "IbJqQ0K32XFR",
        "outputId": "75822ff7-2c3d-4e75-c118-138337d477ed"
      },
      "execution_count": null,
      "outputs": [
        {
          "output_type": "execute_result",
          "data": {
            "text/plain": [
              "tensor([0, 1, 2, 3, 4, 5, 6, 7, 8, 9])"
            ]
          },
          "metadata": {},
          "execution_count": 186
        }
      ]
    },
    {
      "cell_type": "code",
      "source": [
        "predicted.shape, torch_y_val.shape"
      ],
      "metadata": {
        "colab": {
          "base_uri": "https://localhost:8080/"
        },
        "id": "fdOSaZbhPLab",
        "outputId": "46d50415-f823-4f07-f421-dac0cf75c6ab"
      },
      "execution_count": null,
      "outputs": [
        {
          "output_type": "execute_result",
          "data": {
            "text/plain": [
              "(torch.Size([4000]), torch.Size([4000]))"
            ]
          },
          "metadata": {},
          "execution_count": 187
        }
      ]
    },
    {
      "cell_type": "code",
      "source": [
        "from sklearn.metrics import accuracy_score\n",
        "100 * torch.sum(torch_y_val==predicted) / len(torch_y_val)"
      ],
      "metadata": {
        "colab": {
          "base_uri": "https://localhost:8080/"
        },
        "id": "5GAF1Yi20sy-",
        "outputId": "ac90fd72-d009-4104-a0ba-32686728a05f"
      },
      "execution_count": null,
      "outputs": [
        {
          "output_type": "execute_result",
          "data": {
            "text/plain": [
              "tensor(96.6750)"
            ]
          },
          "metadata": {},
          "execution_count": 188
        }
      ]
    },
    {
      "cell_type": "code",
      "source": [
        "torch_y_val.shape, predicted.shape"
      ],
      "metadata": {
        "colab": {
          "base_uri": "https://localhost:8080/"
        },
        "id": "R7lXel2514-N",
        "outputId": "971a9a33-12c0-40a6-a60b-66fd947c52c5"
      },
      "execution_count": null,
      "outputs": [
        {
          "output_type": "execute_result",
          "data": {
            "text/plain": [
              "(torch.Size([4000]), torch.Size([4000]))"
            ]
          },
          "metadata": {},
          "execution_count": 189
        }
      ]
    },
    {
      "cell_type": "code",
      "source": [
        "''' \n",
        "Pytorch +\n",
        "Keras + \n",
        "Tensorflow -\n",
        "''' "
      ],
      "metadata": {
        "colab": {
          "base_uri": "https://localhost:8080/",
          "height": 35
        },
        "id": "lKag9vwtPBDG",
        "outputId": "bf2d25be-f4c4-4abc-b988-6939dea67304"
      },
      "execution_count": null,
      "outputs": [
        {
          "output_type": "execute_result",
          "data": {
            "text/plain": [
              "' \\nPytorch +\\nKeras + \\nTensorflow -\\n'"
            ],
            "application/vnd.google.colaboratory.intrinsic+json": {
              "type": "string"
            }
          },
          "metadata": {},
          "execution_count": 191
        }
      ]
    },
    {
      "cell_type": "code",
      "source": [
        "import pandas as pd \n",
        "import numpy as np\n",
        "import torch \n",
        "from torch import nn \n"
      ],
      "metadata": {
        "id": "hdxDDSzJYAkS"
      },
      "execution_count": null,
      "outputs": []
    },
    {
      "cell_type": "markdown",
      "source": [
        "### Trying torch again\n"
      ],
      "metadata": {
        "id": "hBBaeV7zaly1"
      }
    },
    {
      "cell_type": "code",
      "source": [
        "train = pd.read_csv('/content/sample_data/mnist_train_small.csv')\n",
        "test = pd.read_csv('/content/sample_data/mnist_test.csv')"
      ],
      "metadata": {
        "id": "iqocxc7vapRJ"
      },
      "execution_count": null,
      "outputs": []
    },
    {
      "cell_type": "code",
      "source": [
        "from sklearn.model_selection import train_test_split\n",
        "# (32, 28, 28, 1)\n",
        "trainY = train['6']\n",
        "trainX = train.drop('6', axis=1)/255\n",
        "testX = test.drop('7', axis=1)/255\n",
        "testY = test['7']\n",
        "trainX, valX, trainY, valY = train_test_split(trainX, trainY, test_size=0.2, shuffle=True, random_state=23)"
      ],
      "metadata": {
        "id": "ezjqXmrBau0C"
      },
      "execution_count": null,
      "outputs": []
    },
    {
      "cell_type": "code",
      "source": [
        "trainX.shape, testX.shape, trainY.shape, testY.shape, valX.shape # all cnn models should take 4D input (batch_size, height, width, depth)"
      ],
      "metadata": {
        "colab": {
          "base_uri": "https://localhost:8080/"
        },
        "id": "f_BbRTm9EqXh",
        "outputId": "dff1a4a5-618a-459c-ce47-c91a09a81c21"
      },
      "execution_count": null,
      "outputs": [
        {
          "output_type": "execute_result",
          "data": {
            "text/plain": [
              "((15999, 784), (9999, 784), (15999,), (9999,), (4000, 784))"
            ]
          },
          "metadata": {},
          "execution_count": 42
        }
      ]
    },
    {
      "cell_type": "code",
      "source": [
        "testX = testX.values.reshape((9999, 1, 28, 28))\n",
        "trainX = trainX.values.reshape((15999, 1, 28, 28))\n",
        "valX = valX.values.reshape((4000, 1, 28, 28))"
      ],
      "metadata": {
        "id": "0Cmhbgc7G8TO"
      },
      "execution_count": null,
      "outputs": []
    },
    {
      "cell_type": "code",
      "source": [
        "# dataset preparation for torch model;\n",
        "# train & val;\n",
        "train_x_tensor = torch.from_numpy(trainX).type(torch.FloatTensor)\n",
        "train_y_tensor = torch.from_numpy(trainY.values).type(torch.LongTensor)\n",
        "train = torch.utils.data.TensorDataset(train_x_tensor, train_y_tensor)\n",
        "\n",
        "train_loader = torch.utils.data.DataLoader(train, batch_size=32, shuffle=True)\n",
        "\n",
        "val_x_tensor  = torch.from_numpy(valX).type(torch.FloatTensor)\n",
        "val_y_tensor  = torch.from_numpy(valY.values).type(torch.LongTensor)"
      ],
      "metadata": {
        "id": "Cxi3IYCWazNV"
      },
      "execution_count": null,
      "outputs": []
    },
    {
      "cell_type": "code",
      "source": [
        "train[0][0].shape, train[0][1].size"
      ],
      "metadata": {
        "colab": {
          "base_uri": "https://localhost:8080/"
        },
        "id": "NsZCB_NRDFMD",
        "outputId": "a969837e-371c-488a-8f6a-a045c2e6768a"
      },
      "execution_count": null,
      "outputs": [
        {
          "output_type": "execute_result",
          "data": {
            "text/plain": [
              "(torch.Size([1, 28, 28]), <function Tensor.size>)"
            ]
          },
          "metadata": {},
          "execution_count": 45
        }
      ]
    },
    {
      "cell_type": "code",
      "source": [
        "# model building \n",
        "class Net(nn.Module):\n",
        "  def __init__(self):\n",
        "    self.conv1 = nn.Conv2D(32, kernel_size=(3,3) )"
      ],
      "metadata": {
        "id": "9FZm1dxBbKNd"
      },
      "execution_count": null,
      "outputs": []
    },
    {
      "cell_type": "code",
      "source": [],
      "metadata": {
        "id": "yEFRWV1nEiP6"
      },
      "execution_count": null,
      "outputs": []
    }
  ]
}